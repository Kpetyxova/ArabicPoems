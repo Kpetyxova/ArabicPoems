{
 "cells": [
  {
   "cell_type": "markdown",
   "metadata": {},
   "source": [
    "# Краулер арабских стихотворений"
   ]
  },
  {
   "cell_type": "code",
   "execution_count": 50,
   "metadata": {},
   "outputs": [],
   "source": [
    "import requests\n",
    "from bs4 import BeautifulSoup\n",
    "from fake_useragent import UserAgent\n",
    "import re\n",
    "import pandas as pd\n",
    "from tqdm import tqdm\n",
    "\n",
    "ua = UserAgent(verify_ssl=False)"
   ]
  },
  {
   "cell_type": "markdown",
   "metadata": {},
   "source": [
    "В переменной `url` указаны ссылки на стихотворения, которые нужно выкачать."
   ]
  },
  {
   "cell_type": "code",
   "execution_count": 61,
   "metadata": {},
   "outputs": [
    {
     "name": "stderr",
     "output_type": "stream",
     "text": [
      "100%|███████████████████████████████████████████| 12/12 [00:04<00:00,  2.51it/s]\n"
     ]
    }
   ],
   "source": [
    "url = ['https://adab.com/post/view_post/16723',\n",
    "       'https://adab.com/post/view_post/16722',\n",
    "       'https://adab.com/post/view_post/16720',\n",
    "       'https://adab.com/post/view_post/14016',\n",
    "       'https://adab.com/post/view_post/14020',\n",
    "       'https://adab.com/post/view_post/14021',\n",
    "       'https://adab.com/post/view_post/11070',\n",
    "       'https://adab.com/post/view_post/11068',\n",
    "       'https://adab.com/post/view_post/11067',\n",
    "       'https://adab.com/post/view_post/22898',\n",
    "       'https://adab.com/post/view_post/22902',\n",
    "       'https://adab.com/post/view_post/22892']\n",
    "       \n",
    "poems = []\n",
    "\n",
    "for u in tqdm(url):\n",
    "    req = requests.get(u, headers={'User-Agent': ua.random})\n",
    "    soup = BeautifulSoup(req.text, 'html.parser')\n",
    "    \n",
    "    info = {}\n",
    "    info['author'] = soup.find('h4', {'class': 'profile-name'}).text.strip()\n",
    "    info['name'] = soup.find('h2', {'class': 'post-title'}).text\n",
    "    info['text'] = soup.find('p', {'class': 'blog-p'}).text\n",
    "    info['punct'] = len(re.findall(r'[.،:!?]', info['text']))\n",
    "    info['lines'] = len(re.findall(r'\\n', info['text']))\n",
    "    poems.append(info)"
   ]
  },
  {
   "cell_type": "code",
   "execution_count": 62,
   "metadata": {},
   "outputs": [],
   "source": [
    "df = pd.DataFrame(poems)"
   ]
  },
  {
   "cell_type": "markdown",
   "metadata": {},
   "source": [
    "Итоговый формат выкачанных данных."
   ]
  },
  {
   "cell_type": "code",
   "execution_count": 65,
   "metadata": {},
   "outputs": [
    {
     "data": {
      "text/html": [
       "<div>\n",
       "<style scoped>\n",
       "    .dataframe tbody tr th:only-of-type {\n",
       "        vertical-align: middle;\n",
       "    }\n",
       "\n",
       "    .dataframe tbody tr th {\n",
       "        vertical-align: top;\n",
       "    }\n",
       "\n",
       "    .dataframe thead th {\n",
       "        text-align: right;\n",
       "    }\n",
       "</style>\n",
       "<table border=\"1\" class=\"dataframe\">\n",
       "  <thead>\n",
       "    <tr style=\"text-align: right;\">\n",
       "      <th></th>\n",
       "      <th>author</th>\n",
       "      <th>name</th>\n",
       "      <th>text</th>\n",
       "      <th>punct</th>\n",
       "      <th>lines</th>\n",
       "    </tr>\n",
       "  </thead>\n",
       "  <tbody>\n",
       "    <tr>\n",
       "      <th>0</th>\n",
       "      <td>أبو فراس الحمداني</td>\n",
       "      <td>مَا العُمْرُ ما طالَتْ به الدّهُورُ،</td>\n",
       "      <td>مَا العُمْرُ ما طالَتْ به الدّهُورُ،\\nالعمرُ م...</td>\n",
       "      <td>192</td>\n",
       "      <td>264</td>\n",
       "    </tr>\n",
       "    <tr>\n",
       "      <th>1</th>\n",
       "      <td>أبو فراس الحمداني</td>\n",
       "      <td>لَوْلا العَجُوزُ بِمَنْبِجٍ</td>\n",
       "      <td>لَوْلا العَجُوزُ بِمَنْبِجٍ\\nمَا خِفْتُ أسْبَا...</td>\n",
       "      <td>20</td>\n",
       "      <td>30</td>\n",
       "    </tr>\n",
       "    <tr>\n",
       "      <th>2</th>\n",
       "      <td>أبو فراس الحمداني</td>\n",
       "      <td>لمنِ الجدودُ الأكرمو</td>\n",
       "      <td>لمنِ الجدودُ الأكرمو\\nنَ ، من الورى ، إلا ليهْ...</td>\n",
       "      <td>20</td>\n",
       "      <td>22</td>\n",
       "    </tr>\n",
       "    <tr>\n",
       "      <th>3</th>\n",
       "      <td>ابن الفارض</td>\n",
       "      <td>يا سَيّداً، لم يَزَلْ، في</td>\n",
       "      <td>يا سَيّداً، لم يَزَلْ، في\\nكُلّ العُلُومِ، يَج...</td>\n",
       "      <td>4</td>\n",
       "      <td>6</td>\n",
       "    </tr>\n",
       "    <tr>\n",
       "      <th>4</th>\n",
       "      <td>ابن الفارض</td>\n",
       "      <td>ما اسمُ طَيرٍ، إذا نَطَقْتَ بحرفٍ</td>\n",
       "      <td>ما اسمُ طَيرٍ، إذا نَطَقْتَ بحرفٍ\\nمنهُ مبداهُ...</td>\n",
       "      <td>2</td>\n",
       "      <td>4</td>\n",
       "    </tr>\n",
       "    <tr>\n",
       "      <th>5</th>\n",
       "      <td>ابن الفارض</td>\n",
       "      <td>إسمُ الذّي أهواهُ تَصْحِيفُهُ،</td>\n",
       "      <td>إسمُ الذّي أهواهُ تَصْحِيفُهُ،\\nوكلُّ شطرٍ منه...</td>\n",
       "      <td>3</td>\n",
       "      <td>4</td>\n",
       "    </tr>\n",
       "    <tr>\n",
       "      <th>6</th>\n",
       "      <td>أبو العتاهية</td>\n",
       "      <td>إنّ السّلامَة َ أنْ نَرْضَى بمَا قُضِيَا،</td>\n",
       "      <td>إنّ السّلامَة َ أنْ نَرْضَى بمَا قُضِيَا،\\nلَي...</td>\n",
       "      <td>16</td>\n",
       "      <td>24</td>\n",
       "    </tr>\n",
       "    <tr>\n",
       "      <th>7</th>\n",
       "      <td>أبو العتاهية</td>\n",
       "      <td>كأنّ الأرْضَ قد طُوِيَتْ عَلَيّا،</td>\n",
       "      <td>كأنّ الأرْضَ قد طُوِيَتْ عَلَيّا،\\nوَقَدْ أُخر...</td>\n",
       "      <td>13</td>\n",
       "      <td>12</td>\n",
       "    </tr>\n",
       "    <tr>\n",
       "      <th>8</th>\n",
       "      <td>أبو العتاهية</td>\n",
       "      <td>أيا عجباً للناسِ في طولِ ما سَهَوْا</td>\n",
       "      <td>أيا عجباً للناسِ في طولِ ما سَهَوْا\\nوَفي طولِ...</td>\n",
       "      <td>13</td>\n",
       "      <td>24</td>\n",
       "    </tr>\n",
       "    <tr>\n",
       "      <th>9</th>\n",
       "      <td>أبو نواس</td>\n",
       "      <td>تركتُ الطِّلا، أوْ لستُ أقـرَبُ  شُـرْبَهُ ،</td>\n",
       "      <td>تركتُ الطِّلا، أوْ لستُ أقـرَبُ  شُـرْبَهُ ،\\n...</td>\n",
       "      <td>7</td>\n",
       "      <td>6</td>\n",
       "    </tr>\n",
       "    <tr>\n",
       "      <th>10</th>\n",
       "      <td>أبو نواس</td>\n",
       "      <td>أرى الْخَمرَ تُرْبي في العُقولِ فتَنتَضي</td>\n",
       "      <td>أرى الْخَمرَ تُرْبي في العُقولِ فتَنتَضي\\nكَوا...</td>\n",
       "      <td>4</td>\n",
       "      <td>6</td>\n",
       "    </tr>\n",
       "    <tr>\n",
       "      <th>11</th>\n",
       "      <td>أبو نواس</td>\n",
       "      <td>بنَفسي مَن يُعذّبُني هَواهُ،</td>\n",
       "      <td>بنَفسي مَن يُعذّبُني هَواهُ،\\nكـذاكَ وليسَ لي ...</td>\n",
       "      <td>4</td>\n",
       "      <td>10</td>\n",
       "    </tr>\n",
       "  </tbody>\n",
       "</table>\n",
       "</div>"
      ],
      "text/plain": [
       "               author                                          name  \\\n",
       "0   أبو فراس الحمداني          مَا العُمْرُ ما طالَتْ به الدّهُورُ،   \n",
       "1   أبو فراس الحمداني                   لَوْلا العَجُوزُ بِمَنْبِجٍ   \n",
       "2   أبو فراس الحمداني                          لمنِ الجدودُ الأكرمو   \n",
       "3          ابن الفارض                     يا سَيّداً، لم يَزَلْ، في   \n",
       "4          ابن الفارض             ما اسمُ طَيرٍ، إذا نَطَقْتَ بحرفٍ   \n",
       "5          ابن الفارض                إسمُ الذّي أهواهُ تَصْحِيفُهُ،   \n",
       "6        أبو العتاهية     إنّ السّلامَة َ أنْ نَرْضَى بمَا قُضِيَا،   \n",
       "7        أبو العتاهية             كأنّ الأرْضَ قد طُوِيَتْ عَلَيّا،   \n",
       "8        أبو العتاهية           أيا عجباً للناسِ في طولِ ما سَهَوْا   \n",
       "9            أبو نواس  تركتُ الطِّلا، أوْ لستُ أقـرَبُ  شُـرْبَهُ ،   \n",
       "10           أبو نواس      أرى الْخَمرَ تُرْبي في العُقولِ فتَنتَضي   \n",
       "11           أبو نواس                  بنَفسي مَن يُعذّبُني هَواهُ،   \n",
       "\n",
       "                                                 text  punct  lines  \n",
       "0   مَا العُمْرُ ما طالَتْ به الدّهُورُ،\\nالعمرُ م...    192    264  \n",
       "1   لَوْلا العَجُوزُ بِمَنْبِجٍ\\nمَا خِفْتُ أسْبَا...     20     30  \n",
       "2   لمنِ الجدودُ الأكرمو\\nنَ ، من الورى ، إلا ليهْ...     20     22  \n",
       "3   يا سَيّداً، لم يَزَلْ، في\\nكُلّ العُلُومِ، يَج...      4      6  \n",
       "4   ما اسمُ طَيرٍ، إذا نَطَقْتَ بحرفٍ\\nمنهُ مبداهُ...      2      4  \n",
       "5   إسمُ الذّي أهواهُ تَصْحِيفُهُ،\\nوكلُّ شطرٍ منه...      3      4  \n",
       "6   إنّ السّلامَة َ أنْ نَرْضَى بمَا قُضِيَا،\\nلَي...     16     24  \n",
       "7   كأنّ الأرْضَ قد طُوِيَتْ عَلَيّا،\\nوَقَدْ أُخر...     13     12  \n",
       "8   أيا عجباً للناسِ في طولِ ما سَهَوْا\\nوَفي طولِ...     13     24  \n",
       "9   تركتُ الطِّلا، أوْ لستُ أقـرَبُ  شُـرْبَهُ ،\\n...      7      6  \n",
       "10  أرى الْخَمرَ تُرْبي في العُقولِ فتَنتَضي\\nكَوا...      4      6  \n",
       "11  بنَفسي مَن يُعذّبُني هَواهُ،\\nكـذاكَ وليسَ لي ...      4     10  "
      ]
     },
     "execution_count": 65,
     "metadata": {},
     "output_type": "execute_result"
    }
   ],
   "source": [
    "df"
   ]
  },
  {
   "cell_type": "code",
   "execution_count": 66,
   "metadata": {},
   "outputs": [],
   "source": [
    "df.to_csv('arabic_poems.csv')"
   ]
  },
  {
   "cell_type": "code",
   "execution_count": null,
   "metadata": {},
   "outputs": [],
   "source": []
  }
 ],
 "metadata": {
  "kernelspec": {
   "display_name": "Python 3 (ipykernel)",
   "language": "python",
   "name": "python3"
  },
  "language_info": {
   "codemirror_mode": {
    "name": "ipython",
    "version": 3
   },
   "file_extension": ".py",
   "mimetype": "text/x-python",
   "name": "python",
   "nbconvert_exporter": "python",
   "pygments_lexer": "ipython3",
   "version": "3.7.3"
  }
 },
 "nbformat": 4,
 "nbformat_minor": 2
}
