{
  "nbformat": 4,
  "nbformat_minor": 0,
  "metadata": {
    "colab": {
      "name": "camel2um.ipynb",
      "provenance": [],
      "collapsed_sections": []
    },
    "kernelspec": {
      "name": "python3",
      "display_name": "Python 3"
    },
    "language_info": {
      "name": "python"
    }
  },
  "cells": [
    {
      "cell_type": "code",
      "execution_count": null,
      "metadata": {
        "colab": {
          "base_uri": "https://localhost:8080/"
        },
        "id": "KUukT7y3MLU0",
        "outputId": "f797186d-ec4f-4837-acb2-4a5385d309ee"
      },
      "outputs": [
        {
          "output_type": "stream",
          "name": "stdout",
          "text": [
            "Collecting camel-tools\n",
            "  Downloading camel_tools-1.2.0.tar.gz (58 kB)\n",
            "\u001b[K     |████████████████████████████████| 58 kB 5.7 MB/s \n",
            "\u001b[?25hRequirement already satisfied: future in /usr/local/lib/python3.7/dist-packages (from camel-tools) (0.16.0)\n",
            "Requirement already satisfied: six in /usr/local/lib/python3.7/dist-packages (from camel-tools) (1.15.0)\n",
            "Requirement already satisfied: docopt in /usr/local/lib/python3.7/dist-packages (from camel-tools) (0.6.2)\n",
            "Requirement already satisfied: cachetools in /usr/local/lib/python3.7/dist-packages (from camel-tools) (4.2.4)\n",
            "Requirement already satisfied: numpy in /usr/local/lib/python3.7/dist-packages (from camel-tools) (1.19.5)\n",
            "Requirement already satisfied: scipy in /usr/local/lib/python3.7/dist-packages (from camel-tools) (1.4.1)\n",
            "Requirement already satisfied: pandas in /usr/local/lib/python3.7/dist-packages (from camel-tools) (1.1.5)\n",
            "Requirement already satisfied: scikit-learn in /usr/local/lib/python3.7/dist-packages (from camel-tools) (1.0.1)\n",
            "Requirement already satisfied: dill in /usr/local/lib/python3.7/dist-packages (from camel-tools) (0.3.4)\n",
            "Requirement already satisfied: torch>=1.3 in /usr/local/lib/python3.7/dist-packages (from camel-tools) (1.10.0+cu111)\n",
            "Collecting transformers>=3.0.2\n",
            "  Downloading transformers-4.15.0-py3-none-any.whl (3.4 MB)\n",
            "\u001b[K     |████████████████████████████████| 3.4 MB 41.1 MB/s \n",
            "\u001b[?25hRequirement already satisfied: editdistance in /usr/local/lib/python3.7/dist-packages (from camel-tools) (0.5.3)\n",
            "Requirement already satisfied: requests in /usr/local/lib/python3.7/dist-packages (from camel-tools) (2.23.0)\n",
            "Collecting camel-kenlm\n",
            "  Downloading camel-kenlm-2021.12.27.tar.gz (418 kB)\n",
            "\u001b[K     |████████████████████████████████| 418 kB 40.8 MB/s \n",
            "\u001b[?25hRequirement already satisfied: typing-extensions in /usr/local/lib/python3.7/dist-packages (from torch>=1.3->camel-tools) (3.10.0.2)\n",
            "Collecting pyyaml>=5.1\n",
            "  Downloading PyYAML-6.0-cp37-cp37m-manylinux_2_5_x86_64.manylinux1_x86_64.manylinux_2_12_x86_64.manylinux2010_x86_64.whl (596 kB)\n",
            "\u001b[K     |████████████████████████████████| 596 kB 16.6 MB/s \n",
            "\u001b[?25hCollecting tokenizers<0.11,>=0.10.1\n",
            "  Downloading tokenizers-0.10.3-cp37-cp37m-manylinux_2_5_x86_64.manylinux1_x86_64.manylinux_2_12_x86_64.manylinux2010_x86_64.whl (3.3 MB)\n",
            "\u001b[K     |████████████████████████████████| 3.3 MB 30.7 MB/s \n",
            "\u001b[?25hRequirement already satisfied: regex!=2019.12.17 in /usr/local/lib/python3.7/dist-packages (from transformers>=3.0.2->camel-tools) (2019.12.20)\n",
            "Collecting sacremoses\n",
            "  Downloading sacremoses-0.0.46-py3-none-any.whl (895 kB)\n",
            "\u001b[K     |████████████████████████████████| 895 kB 44.0 MB/s \n",
            "\u001b[?25hCollecting huggingface-hub<1.0,>=0.1.0\n",
            "  Downloading huggingface_hub-0.2.1-py3-none-any.whl (61 kB)\n",
            "\u001b[K     |████████████████████████████████| 61 kB 475 kB/s \n",
            "\u001b[?25hRequirement already satisfied: filelock in /usr/local/lib/python3.7/dist-packages (from transformers>=3.0.2->camel-tools) (3.4.0)\n",
            "Requirement already satisfied: packaging>=20.0 in /usr/local/lib/python3.7/dist-packages (from transformers>=3.0.2->camel-tools) (21.3)\n",
            "Requirement already satisfied: importlib-metadata in /usr/local/lib/python3.7/dist-packages (from transformers>=3.0.2->camel-tools) (4.8.2)\n",
            "Requirement already satisfied: tqdm>=4.27 in /usr/local/lib/python3.7/dist-packages (from transformers>=3.0.2->camel-tools) (4.62.3)\n",
            "Requirement already satisfied: pyparsing!=3.0.5,>=2.0.2 in /usr/local/lib/python3.7/dist-packages (from packaging>=20.0->transformers>=3.0.2->camel-tools) (3.0.6)\n",
            "Requirement already satisfied: zipp>=0.5 in /usr/local/lib/python3.7/dist-packages (from importlib-metadata->transformers>=3.0.2->camel-tools) (3.6.0)\n",
            "Requirement already satisfied: pytz>=2017.2 in /usr/local/lib/python3.7/dist-packages (from pandas->camel-tools) (2018.9)\n",
            "Requirement already satisfied: python-dateutil>=2.7.3 in /usr/local/lib/python3.7/dist-packages (from pandas->camel-tools) (2.8.2)\n",
            "Requirement already satisfied: certifi>=2017.4.17 in /usr/local/lib/python3.7/dist-packages (from requests->camel-tools) (2021.10.8)\n",
            "Requirement already satisfied: chardet<4,>=3.0.2 in /usr/local/lib/python3.7/dist-packages (from requests->camel-tools) (3.0.4)\n",
            "Requirement already satisfied: idna<3,>=2.5 in /usr/local/lib/python3.7/dist-packages (from requests->camel-tools) (2.10)\n",
            "Requirement already satisfied: urllib3!=1.25.0,!=1.25.1,<1.26,>=1.21.1 in /usr/local/lib/python3.7/dist-packages (from requests->camel-tools) (1.24.3)\n",
            "Requirement already satisfied: joblib in /usr/local/lib/python3.7/dist-packages (from sacremoses->transformers>=3.0.2->camel-tools) (1.1.0)\n",
            "Requirement already satisfied: click in /usr/local/lib/python3.7/dist-packages (from sacremoses->transformers>=3.0.2->camel-tools) (7.1.2)\n",
            "Requirement already satisfied: threadpoolctl>=2.0.0 in /usr/local/lib/python3.7/dist-packages (from scikit-learn->camel-tools) (3.0.0)\n",
            "Building wheels for collected packages: camel-tools, camel-kenlm\n",
            "  Building wheel for camel-tools (setup.py) ... \u001b[?25l\u001b[?25hdone\n",
            "  Created wheel for camel-tools: filename=camel_tools-1.2.0-py3-none-any.whl size=99047 sha256=42c288e8f3c12e1fdd5427c2bb6faf0f0059fbedb7d2a9cc395659f2eda85cf2\n",
            "  Stored in directory: /root/.cache/pip/wheels/05/ad/a1/e8aa569c102f0b8b3522ae515b7d0696046e4490c0ff4edb0a\n",
            "  Building wheel for camel-kenlm (setup.py) ... \u001b[?25l\u001b[?25hdone\n",
            "  Created wheel for camel-kenlm: filename=camel_kenlm-2021.12.27-cp37-cp37m-linux_x86_64.whl size=2332875 sha256=5df1344d4289fd59bb4e69ef0956b726e1ee00aac0a2becbc8bf33ca72a37714\n",
            "  Stored in directory: /root/.cache/pip/wheels/db/72/74/982f8c435f15b7feaf6dc8a03e212ff34e93f1f2d747059332\n",
            "Successfully built camel-tools camel-kenlm\n",
            "Installing collected packages: pyyaml, tokenizers, sacremoses, huggingface-hub, transformers, camel-kenlm, camel-tools\n",
            "  Attempting uninstall: pyyaml\n",
            "    Found existing installation: PyYAML 3.13\n",
            "    Uninstalling PyYAML-3.13:\n",
            "      Successfully uninstalled PyYAML-3.13\n",
            "Successfully installed camel-kenlm-2021.12.27 camel-tools-1.2.0 huggingface-hub-0.2.1 pyyaml-6.0 sacremoses-0.0.46 tokenizers-0.10.3 transformers-4.15.0\n"
          ]
        }
      ],
      "source": [
        "%pip install camel-tools"
      ]
    },
    {
      "cell_type": "code",
      "source": [
        "from google.colab import drive\n",
        "import os\n",
        "\n",
        "drive.mount('/gdrive')\n",
        "\n",
        "%mkdir /gdrive/MyDrive/camel_tools"
      ],
      "metadata": {
        "colab": {
          "base_uri": "https://localhost:8080/"
        },
        "id": "FoLhPxWYMSrD",
        "outputId": "b94337c6-693d-490b-854f-f290a99bfd4b"
      },
      "execution_count": null,
      "outputs": [
        {
          "output_type": "stream",
          "name": "stdout",
          "text": [
            "Mounted at /gdrive\n",
            "mkdir: cannot create directory ‘/gdrive/MyDrive/camel_tools’: File exists\n"
          ]
        }
      ]
    },
    {
      "cell_type": "code",
      "source": [
        "os.environ['CAMELTOOLS_DATA'] = '/gdrive/MyDrive/camel_tools'\n",
        "\n",
        "!export | camel_data light"
      ],
      "metadata": {
        "id": "ecFYyYXeMU_3"
      },
      "execution_count": null,
      "outputs": []
    },
    {
      "cell_type": "code",
      "source": [
        "%pip install camel-tools\n",
        "\n",
        "from google.colab import drive\n",
        "import os\n",
        "\n",
        "drive.mount('/gdrive')\n",
        "os.environ['CAMELTOOLS_DATA'] = '/gdrive/MyDrive/camel_tools'"
      ],
      "metadata": {
        "colab": {
          "base_uri": "https://localhost:8080/"
        },
        "id": "kNFtQmO4MYmu",
        "outputId": "af670c05-a09e-488d-8d1a-4ac71219c412"
      },
      "execution_count": null,
      "outputs": [
        {
          "output_type": "stream",
          "name": "stdout",
          "text": [
            "Requirement already satisfied: camel-tools in /usr/local/lib/python3.7/dist-packages (1.2.0)\n",
            "Requirement already satisfied: docopt in /usr/local/lib/python3.7/dist-packages (from camel-tools) (0.6.2)\n",
            "Requirement already satisfied: cachetools in /usr/local/lib/python3.7/dist-packages (from camel-tools) (4.2.4)\n",
            "Requirement already satisfied: scipy in /usr/local/lib/python3.7/dist-packages (from camel-tools) (1.4.1)\n",
            "Requirement already satisfied: dill in /usr/local/lib/python3.7/dist-packages (from camel-tools) (0.3.4)\n",
            "Requirement already satisfied: torch>=1.3 in /usr/local/lib/python3.7/dist-packages (from camel-tools) (1.10.0+cu111)\n",
            "Requirement already satisfied: editdistance in /usr/local/lib/python3.7/dist-packages (from camel-tools) (0.5.3)\n",
            "Requirement already satisfied: requests in /usr/local/lib/python3.7/dist-packages (from camel-tools) (2.23.0)\n",
            "Requirement already satisfied: scikit-learn in /usr/local/lib/python3.7/dist-packages (from camel-tools) (1.0.1)\n",
            "Requirement already satisfied: pandas in /usr/local/lib/python3.7/dist-packages (from camel-tools) (1.1.5)\n",
            "Requirement already satisfied: numpy in /usr/local/lib/python3.7/dist-packages (from camel-tools) (1.19.5)\n",
            "Requirement already satisfied: future in /usr/local/lib/python3.7/dist-packages (from camel-tools) (0.16.0)\n",
            "Requirement already satisfied: camel-kenlm in /usr/local/lib/python3.7/dist-packages (from camel-tools) (2021.12.27)\n",
            "Requirement already satisfied: transformers>=3.0.2 in /usr/local/lib/python3.7/dist-packages (from camel-tools) (4.15.0)\n",
            "Requirement already satisfied: six in /usr/local/lib/python3.7/dist-packages (from camel-tools) (1.15.0)\n",
            "Requirement already satisfied: typing-extensions in /usr/local/lib/python3.7/dist-packages (from torch>=1.3->camel-tools) (3.10.0.2)\n",
            "Requirement already satisfied: tokenizers<0.11,>=0.10.1 in /usr/local/lib/python3.7/dist-packages (from transformers>=3.0.2->camel-tools) (0.10.3)\n",
            "Requirement already satisfied: pyyaml>=5.1 in /usr/local/lib/python3.7/dist-packages (from transformers>=3.0.2->camel-tools) (6.0)\n",
            "Requirement already satisfied: regex!=2019.12.17 in /usr/local/lib/python3.7/dist-packages (from transformers>=3.0.2->camel-tools) (2019.12.20)\n",
            "Requirement already satisfied: huggingface-hub<1.0,>=0.1.0 in /usr/local/lib/python3.7/dist-packages (from transformers>=3.0.2->camel-tools) (0.2.1)\n",
            "Requirement already satisfied: packaging>=20.0 in /usr/local/lib/python3.7/dist-packages (from transformers>=3.0.2->camel-tools) (21.3)\n",
            "Requirement already satisfied: filelock in /usr/local/lib/python3.7/dist-packages (from transformers>=3.0.2->camel-tools) (3.4.0)\n",
            "Requirement already satisfied: importlib-metadata in /usr/local/lib/python3.7/dist-packages (from transformers>=3.0.2->camel-tools) (4.8.2)\n",
            "Requirement already satisfied: tqdm>=4.27 in /usr/local/lib/python3.7/dist-packages (from transformers>=3.0.2->camel-tools) (4.62.3)\n",
            "Requirement already satisfied: sacremoses in /usr/local/lib/python3.7/dist-packages (from transformers>=3.0.2->camel-tools) (0.0.46)\n",
            "Requirement already satisfied: pyparsing!=3.0.5,>=2.0.2 in /usr/local/lib/python3.7/dist-packages (from packaging>=20.0->transformers>=3.0.2->camel-tools) (3.0.6)\n",
            "Requirement already satisfied: zipp>=0.5 in /usr/local/lib/python3.7/dist-packages (from importlib-metadata->transformers>=3.0.2->camel-tools) (3.6.0)\n",
            "Requirement already satisfied: pytz>=2017.2 in /usr/local/lib/python3.7/dist-packages (from pandas->camel-tools) (2018.9)\n",
            "Requirement already satisfied: python-dateutil>=2.7.3 in /usr/local/lib/python3.7/dist-packages (from pandas->camel-tools) (2.8.2)\n",
            "Requirement already satisfied: idna<3,>=2.5 in /usr/local/lib/python3.7/dist-packages (from requests->camel-tools) (2.10)\n",
            "Requirement already satisfied: certifi>=2017.4.17 in /usr/local/lib/python3.7/dist-packages (from requests->camel-tools) (2021.10.8)\n",
            "Requirement already satisfied: urllib3!=1.25.0,!=1.25.1,<1.26,>=1.21.1 in /usr/local/lib/python3.7/dist-packages (from requests->camel-tools) (1.24.3)\n",
            "Requirement already satisfied: chardet<4,>=3.0.2 in /usr/local/lib/python3.7/dist-packages (from requests->camel-tools) (3.0.4)\n",
            "Requirement already satisfied: joblib in /usr/local/lib/python3.7/dist-packages (from sacremoses->transformers>=3.0.2->camel-tools) (1.1.0)\n",
            "Requirement already satisfied: click in /usr/local/lib/python3.7/dist-packages (from sacremoses->transformers>=3.0.2->camel-tools) (7.1.2)\n",
            "Requirement already satisfied: threadpoolctl>=2.0.0 in /usr/local/lib/python3.7/dist-packages (from scikit-learn->camel-tools) (3.0.0)\n",
            "Drive already mounted at /gdrive; to attempt to forcibly remount, call drive.mount(\"/gdrive\", force_remount=True).\n"
          ]
        }
      ]
    },
    {
      "cell_type": "code",
      "source": [
        "from camel_tools.morphology.database import MorphologyDB\n",
        "from camel_tools.morphology.analyzer import Analyzer\n",
        "\n",
        "# First, we need to load a morphological database.\n",
        "# Here, we load the default database which is used for analyzing\n",
        "# Modern Standard Arabic. \n",
        "db = MorphologyDB.builtin_db()\n",
        "\n",
        "analyzer = Analyzer(db)\n",
        "\n",
        "analyses = analyzer.analyze('مُوَظَّف')\n",
        "\n",
        "for analysis in analyses:\n",
        "    print(analysis, '\\n')"
      ],
      "metadata": {
        "colab": {
          "base_uri": "https://localhost:8080/"
        },
        "id": "sZuuuMS9MbBx",
        "outputId": "5eeca488-57d2-486e-8308-91b0640eaecc"
      },
      "execution_count": null,
      "outputs": [
        {
          "output_type": "stream",
          "name": "stdout",
          "text": [
            "{'diac': 'مُوَظَّف', 'lex': 'مُوَظَّف', 'bw': 'مُوَظَّف/ADJ', 'gloss': 'employed;hired', 'pos': 'adj', 'prc3': '0', 'prc2': '0', 'prc1': '0', 'prc0': '0', 'per': 'na', 'asp': 'na', 'vox': 'na', 'mod': 'na', 'stt': 'i', 'cas': 'u', 'enc0': '0', 'rat': 'n', 'source': 'lex', 'form_gen': 'm', 'form_num': 's', 'd3seg': 'مُوَظَّف', 'caphi': 'm_u_w_a_dh._dh._a_f', 'd1tok': 'مُوَظَّف', 'd2tok': 'مُوَظَّف', 'pos_logprob': -0.9868824, 'd3tok': 'مُوَظَّف', 'd2seg': 'مُوَظَّف', 'pos_lex_logprob': -5.400551, 'num': 's', 'ud': 'ADJ', 'gen': 'm', 'catib6': 'NOM', 'root': '#.ظ.ف', 'bwtok': 'مُوَظَّف', 'pattern': 'مُوَ2َّ3', 'lex_logprob': -5.400551, 'atbtok': 'مُوَظَّف', 'atbseg': 'مُوَظَّف', 'd1seg': 'مُوَظَّف', 'stem': 'مُوَظَّف', 'stemgloss': 'employed;hired', 'stemcat': 'N-ap'} \n",
            "\n",
            "{'diac': 'مُوَظَّفَ', 'lex': 'مُوَظَّف', 'bw': 'مُوَظَّف/ADJ+َ/CASE_DEF_ACC', 'gloss': 'employed;hired+[def.acc.]', 'pos': 'adj', 'prc3': '0', 'prc2': '0', 'prc1': '0', 'prc0': '0', 'per': 'na', 'asp': 'na', 'vox': 'na', 'mod': 'na', 'stt': 'c', 'cas': 'a', 'enc0': '0', 'rat': 'n', 'source': 'lex', 'form_gen': 'm', 'form_num': 's', 'd3seg': 'مُوَظَّفَ', 'caphi': 'm_u_w_a_dh._dh._a_f_a', 'd1tok': 'مُوَظَّفَ', 'd2tok': 'مُوَظَّفَ', 'pos_logprob': -0.9868824, 'd3tok': 'مُوَظَّفَ', 'd2seg': 'مُوَظَّفَ', 'pos_lex_logprob': -5.400551, 'num': 's', 'ud': 'ADJ', 'gen': 'm', 'catib6': 'NOM', 'root': '#.ظ.ف', 'bwtok': 'مُوَظَّف_+َ', 'pattern': 'مُوَ2َّ3َ', 'lex_logprob': -5.400551, 'atbtok': 'مُوَظَّفَ', 'atbseg': 'مُوَظَّفَ', 'd1seg': 'مُوَظَّفَ', 'stem': 'مُوَظَّف', 'stemgloss': 'employed;hired', 'stemcat': 'N-ap'} \n",
            "\n",
            "{'diac': 'مُوَظَّفٌ', 'lex': 'مُوَظَّف', 'bw': 'مُوَظَّف/ADJ+ٌ/CASE_INDEF_NOM', 'gloss': 'employed;hired+[indef.nom.]', 'pos': 'adj', 'prc3': '0', 'prc2': '0', 'prc1': '0', 'prc0': '0', 'per': 'na', 'asp': 'na', 'vox': 'na', 'mod': 'na', 'stt': 'i', 'cas': 'n', 'enc0': '0', 'rat': 'n', 'source': 'lex', 'form_gen': 'm', 'form_num': 's', 'd3seg': 'مُوَظَّفٌ', 'caphi': 'm_u_w_a_dh._dh._a_f_u_n', 'd1tok': 'مُوَظَّفٌ', 'd2tok': 'مُوَظَّفٌ', 'pos_logprob': -0.9868824, 'd3tok': 'مُوَظَّفٌ', 'd2seg': 'مُوَظَّفٌ', 'pos_lex_logprob': -5.400551, 'num': 's', 'ud': 'ADJ', 'gen': 'm', 'catib6': 'NOM', 'root': '#.ظ.ف', 'bwtok': 'مُوَظَّف_+ٌ', 'pattern': 'مُوَ2َّ3ٌ', 'lex_logprob': -5.400551, 'atbtok': 'مُوَظَّفٌ', 'atbseg': 'مُوَظَّفٌ', 'd1seg': 'مُوَظَّفٌ', 'stem': 'مُوَظَّف', 'stemgloss': 'employed;hired', 'stemcat': 'N-ap'} \n",
            "\n",
            "{'diac': 'مُوَظَّفِ', 'lex': 'مُوَظَّف', 'bw': 'مُوَظَّف/ADJ+ِ/CASE_DEF_GEN', 'gloss': 'employed;hired+[def.gen.]', 'pos': 'adj', 'prc3': '0', 'prc2': '0', 'prc1': '0', 'prc0': '0', 'per': 'na', 'asp': 'na', 'vox': 'na', 'mod': 'na', 'stt': 'c', 'cas': 'g', 'enc0': '0', 'rat': 'n', 'source': 'lex', 'form_gen': 'm', 'form_num': 's', 'd3seg': 'مُوَظَّفِ', 'caphi': 'm_u_w_a_dh._dh._a_f_i', 'd1tok': 'مُوَظَّفِ', 'd2tok': 'مُوَظَّفِ', 'pos_logprob': -0.9868824, 'd3tok': 'مُوَظَّفِ', 'd2seg': 'مُوَظَّفِ', 'pos_lex_logprob': -5.400551, 'num': 's', 'ud': 'ADJ', 'gen': 'm', 'catib6': 'NOM', 'root': '#.ظ.ف', 'bwtok': 'مُوَظَّف_+ِ', 'pattern': 'مُوَ2َّ3ِ', 'lex_logprob': -5.400551, 'atbtok': 'مُوَظَّفِ', 'atbseg': 'مُوَظَّفِ', 'd1seg': 'مُوَظَّفِ', 'stem': 'مُوَظَّف', 'stemgloss': 'employed;hired', 'stemcat': 'N-ap'} \n",
            "\n",
            "{'diac': 'مُوَظَّفٍ', 'lex': 'مُوَظَّف', 'bw': 'مُوَظَّف/ADJ+ٍ/CASE_INDEF_GEN', 'gloss': 'employed;hired+[indef.gen.]', 'pos': 'adj', 'prc3': '0', 'prc2': '0', 'prc1': '0', 'prc0': '0', 'per': 'na', 'asp': 'na', 'vox': 'na', 'mod': 'na', 'stt': 'i', 'cas': 'g', 'enc0': '0', 'rat': 'n', 'source': 'lex', 'form_gen': 'm', 'form_num': 's', 'd3seg': 'مُوَظَّفٍ', 'caphi': 'm_u_w_a_dh._dh._a_f_i_n', 'd1tok': 'مُوَظَّفٍ', 'd2tok': 'مُوَظَّفٍ', 'pos_logprob': -0.9868824, 'd3tok': 'مُوَظَّفٍ', 'd2seg': 'مُوَظَّفٍ', 'pos_lex_logprob': -5.400551, 'num': 's', 'ud': 'ADJ', 'gen': 'm', 'catib6': 'NOM', 'root': '#.ظ.ف', 'bwtok': 'مُوَظَّف_+ٍ', 'pattern': 'مُوَ2َّ3ٍ', 'lex_logprob': -5.400551, 'atbtok': 'مُوَظَّفٍ', 'atbseg': 'مُوَظَّفٍ', 'd1seg': 'مُوَظَّفٍ', 'stem': 'مُوَظَّف', 'stemgloss': 'employed;hired', 'stemcat': 'N-ap'} \n",
            "\n",
            "{'diac': 'مُوَظَّفُ', 'lex': 'مُوَظَّف', 'bw': 'مُوَظَّف/ADJ+ُ/CASE_DEF_NOM', 'gloss': 'employed;hired+[def.nom.]', 'pos': 'adj', 'prc3': '0', 'prc2': '0', 'prc1': '0', 'prc0': '0', 'per': 'na', 'asp': 'na', 'vox': 'na', 'mod': 'na', 'stt': 'c', 'cas': 'n', 'enc0': '0', 'rat': 'n', 'source': 'lex', 'form_gen': 'm', 'form_num': 's', 'd3seg': 'مُوَظَّفُ', 'caphi': 'm_u_w_a_dh._dh._a_f_u', 'd1tok': 'مُوَظَّفُ', 'd2tok': 'مُوَظَّفُ', 'pos_logprob': -0.9868824, 'd3tok': 'مُوَظَّفُ', 'd2seg': 'مُوَظَّفُ', 'pos_lex_logprob': -5.400551, 'num': 's', 'ud': 'ADJ', 'gen': 'm', 'catib6': 'NOM', 'root': '#.ظ.ف', 'bwtok': 'مُوَظَّف_+ُ', 'pattern': 'مُوَ2َّ3ُ', 'lex_logprob': -5.400551, 'atbtok': 'مُوَظَّفُ', 'atbseg': 'مُوَظَّفُ', 'd1seg': 'مُوَظَّفُ', 'stem': 'مُوَظَّف', 'stemgloss': 'employed;hired', 'stemcat': 'N-ap'} \n",
            "\n",
            "{'diac': 'مُوَظَّف', 'lex': 'مُوَظَّف', 'bw': 'مُوَظَّف/NOUN', 'gloss': 'employee', 'pos': 'noun', 'prc3': '0', 'prc2': '0', 'prc1': '0', 'prc0': '0', 'per': 'na', 'asp': 'na', 'vox': 'na', 'mod': 'na', 'stt': 'i', 'cas': 'u', 'enc0': '0', 'rat': 'r', 'source': 'lex', 'form_gen': 'm', 'form_num': 's', 'd3seg': 'مُوَظَّف', 'caphi': 'm_u_w_a_dh._dh._a_f', 'd1tok': 'مُوَظَّف', 'd2tok': 'مُوَظَّف', 'pos_logprob': -0.4344233, 'd3tok': 'مُوَظَّف', 'd2seg': 'مُوَظَّف', 'pos_lex_logprob': -3.747339, 'num': 's', 'ud': 'NOUN', 'gen': 'm', 'catib6': 'NOM', 'root': '#.ظ.ف', 'bwtok': 'مُوَظَّف', 'pattern': 'مُوَ2َّ3', 'lex_logprob': -3.747339, 'atbtok': 'مُوَظَّف', 'atbseg': 'مُوَظَّف', 'd1seg': 'مُوَظَّف', 'stem': 'مُوَظَّف', 'stemgloss': 'employee', 'stemcat': 'Nall'} \n",
            "\n",
            "{'diac': 'مُوَظَّفَ', 'lex': 'مُوَظَّف', 'bw': 'مُوَظَّف/NOUN+َ/CASE_DEF_ACC', 'gloss': 'employee+[def.acc.]', 'pos': 'noun', 'prc3': '0', 'prc2': '0', 'prc1': '0', 'prc0': '0', 'per': 'na', 'asp': 'na', 'vox': 'na', 'mod': 'na', 'stt': 'c', 'cas': 'a', 'enc0': '0', 'rat': 'r', 'source': 'lex', 'form_gen': 'm', 'form_num': 's', 'd3seg': 'مُوَظَّفَ', 'caphi': 'm_u_w_a_dh._dh._a_f_a', 'd1tok': 'مُوَظَّفَ', 'd2tok': 'مُوَظَّفَ', 'pos_logprob': -0.4344233, 'd3tok': 'مُوَظَّفَ', 'd2seg': 'مُوَظَّفَ', 'pos_lex_logprob': -3.747339, 'num': 's', 'ud': 'NOUN', 'gen': 'm', 'catib6': 'NOM', 'root': '#.ظ.ف', 'bwtok': 'مُوَظَّف_+َ', 'pattern': 'مُوَ2َّ3َ', 'lex_logprob': -3.747339, 'atbtok': 'مُوَظَّفَ', 'atbseg': 'مُوَظَّفَ', 'd1seg': 'مُوَظَّفَ', 'stem': 'مُوَظَّف', 'stemgloss': 'employee', 'stemcat': 'Nall'} \n",
            "\n",
            "{'diac': 'مُوَظَّفٌ', 'lex': 'مُوَظَّف', 'bw': 'مُوَظَّف/NOUN+ٌ/CASE_INDEF_NOM', 'gloss': 'employee+[indef.nom.]', 'pos': 'noun', 'prc3': '0', 'prc2': '0', 'prc1': '0', 'prc0': '0', 'per': 'na', 'asp': 'na', 'vox': 'na', 'mod': 'na', 'stt': 'i', 'cas': 'n', 'enc0': '0', 'rat': 'r', 'source': 'lex', 'form_gen': 'm', 'form_num': 's', 'd3seg': 'مُوَظَّفٌ', 'caphi': 'm_u_w_a_dh._dh._a_f_u_n', 'd1tok': 'مُوَظَّفٌ', 'd2tok': 'مُوَظَّفٌ', 'pos_logprob': -0.4344233, 'd3tok': 'مُوَظَّفٌ', 'd2seg': 'مُوَظَّفٌ', 'pos_lex_logprob': -3.747339, 'num': 's', 'ud': 'NOUN', 'gen': 'm', 'catib6': 'NOM', 'root': '#.ظ.ف', 'bwtok': 'مُوَظَّف_+ٌ', 'pattern': 'مُوَ2َّ3ٌ', 'lex_logprob': -3.747339, 'atbtok': 'مُوَظَّفٌ', 'atbseg': 'مُوَظَّفٌ', 'd1seg': 'مُوَظَّفٌ', 'stem': 'مُوَظَّف', 'stemgloss': 'employee', 'stemcat': 'Nall'} \n",
            "\n",
            "{'diac': 'مُوَظَّفِ', 'lex': 'مُوَظَّف', 'bw': 'مُوَظَّف/NOUN+ِ/CASE_DEF_GEN', 'gloss': 'employee+[def.gen.]', 'pos': 'noun', 'prc3': '0', 'prc2': '0', 'prc1': '0', 'prc0': '0', 'per': 'na', 'asp': 'na', 'vox': 'na', 'mod': 'na', 'stt': 'c', 'cas': 'g', 'enc0': '0', 'rat': 'r', 'source': 'lex', 'form_gen': 'm', 'form_num': 's', 'd3seg': 'مُوَظَّفِ', 'caphi': 'm_u_w_a_dh._dh._a_f_i', 'd1tok': 'مُوَظَّفِ', 'd2tok': 'مُوَظَّفِ', 'pos_logprob': -0.4344233, 'd3tok': 'مُوَظَّفِ', 'd2seg': 'مُوَظَّفِ', 'pos_lex_logprob': -3.747339, 'num': 's', 'ud': 'NOUN', 'gen': 'm', 'catib6': 'NOM', 'root': '#.ظ.ف', 'bwtok': 'مُوَظَّف_+ِ', 'pattern': 'مُوَ2َّ3ِ', 'lex_logprob': -3.747339, 'atbtok': 'مُوَظَّفِ', 'atbseg': 'مُوَظَّفِ', 'd1seg': 'مُوَظَّفِ', 'stem': 'مُوَظَّف', 'stemgloss': 'employee', 'stemcat': 'Nall'} \n",
            "\n",
            "{'diac': 'مُوَظَّفٍ', 'lex': 'مُوَظَّف', 'bw': 'مُوَظَّف/NOUN+ٍ/CASE_INDEF_GEN', 'gloss': 'employee+[indef.gen.]', 'pos': 'noun', 'prc3': '0', 'prc2': '0', 'prc1': '0', 'prc0': '0', 'per': 'na', 'asp': 'na', 'vox': 'na', 'mod': 'na', 'stt': 'i', 'cas': 'g', 'enc0': '0', 'rat': 'r', 'source': 'lex', 'form_gen': 'm', 'form_num': 's', 'd3seg': 'مُوَظَّفٍ', 'caphi': 'm_u_w_a_dh._dh._a_f_i_n', 'd1tok': 'مُوَظَّفٍ', 'd2tok': 'مُوَظَّفٍ', 'pos_logprob': -0.4344233, 'd3tok': 'مُوَظَّفٍ', 'd2seg': 'مُوَظَّفٍ', 'pos_lex_logprob': -3.747339, 'num': 's', 'ud': 'NOUN', 'gen': 'm', 'catib6': 'NOM', 'root': '#.ظ.ف', 'bwtok': 'مُوَظَّف_+ٍ', 'pattern': 'مُوَ2َّ3ٍ', 'lex_logprob': -3.747339, 'atbtok': 'مُوَظَّفٍ', 'atbseg': 'مُوَظَّفٍ', 'd1seg': 'مُوَظَّفٍ', 'stem': 'مُوَظَّف', 'stemgloss': 'employee', 'stemcat': 'Nall'} \n",
            "\n",
            "{'diac': 'مُوَظَّفُ', 'lex': 'مُوَظَّف', 'bw': 'مُوَظَّف/NOUN+ُ/CASE_DEF_NOM', 'gloss': 'employee+[def.nom.]', 'pos': 'noun', 'prc3': '0', 'prc2': '0', 'prc1': '0', 'prc0': '0', 'per': 'na', 'asp': 'na', 'vox': 'na', 'mod': 'na', 'stt': 'c', 'cas': 'n', 'enc0': '0', 'rat': 'r', 'source': 'lex', 'form_gen': 'm', 'form_num': 's', 'd3seg': 'مُوَظَّفُ', 'caphi': 'm_u_w_a_dh._dh._a_f_u', 'd1tok': 'مُوَظَّفُ', 'd2tok': 'مُوَظَّفُ', 'pos_logprob': -0.4344233, 'd3tok': 'مُوَظَّفُ', 'd2seg': 'مُوَظَّفُ', 'pos_lex_logprob': -3.747339, 'num': 's', 'ud': 'NOUN', 'gen': 'm', 'catib6': 'NOM', 'root': '#.ظ.ف', 'bwtok': 'مُوَظَّف_+ُ', 'pattern': 'مُوَ2َّ3ُ', 'lex_logprob': -3.747339, 'atbtok': 'مُوَظَّفُ', 'atbseg': 'مُوَظَّفُ', 'd1seg': 'مُوَظَّفُ', 'stem': 'مُوَظَّف', 'stemgloss': 'employee', 'stemcat': 'Nall'} \n",
            "\n"
          ]
        }
      ]
    },
    {
      "cell_type": "code",
      "source": [
        "s = 'المهرُ' \n"
      ],
      "metadata": {
        "id": "P21rQ_usS-yl"
      },
      "execution_count": null,
      "outputs": []
    },
    {
      "cell_type": "code",
      "source": [
        "s[:-1]"
      ],
      "metadata": {
        "colab": {
          "base_uri": "https://localhost:8080/",
          "height": 37
        },
        "id": "BqezRnLNamMd",
        "outputId": "81814566-3a6c-4565-b2d6-339f92ad5dad"
      },
      "execution_count": null,
      "outputs": [
        {
          "output_type": "execute_result",
          "data": {
            "application/vnd.google.colaboratory.intrinsic+json": {
              "type": "string"
            },
            "text/plain": [
              "'المهر'"
            ]
          },
          "metadata": {},
          "execution_count": 7
        }
      ]
    },
    {
      "cell_type": "code",
      "source": [
        "keys = []"
      ],
      "metadata": {
        "id": "KaRxU3A8ckVT"
      },
      "execution_count": null,
      "outputs": []
    },
    {
      "cell_type": "code",
      "source": [
        "pos = {'noun': 'N', 'noun_prop': 'PROPN', 'noun_num':  'NUM', 'noun_quant': 'NUM', \n",
        "                 'adj': 'ADJ', 'adj_comp': 'ADJ', 'adj_num': 'ADJ', 'adv': 'ADV', \n",
        "                 'adv_interrog': 'ADV', 'adv_rel': 'ADV', 'pron': 'PRO', \n",
        "                 'pron_dem': 'DET', 'pron_exclam': 'PRO', 'pron_interrog': 'PRO',\n",
        "                 'pron_rel': 'PRO', 'verb': 'V', 'verb_pseudo': 'V', 'part': 'PART',\n",
        "                 'part_dem': 'PART', 'part_det': 'PART', 'part_focus': 'PART',\n",
        "                 'part_fut': 'PART', 'part_interrog': 'PART', 'part_neg': 'PART',\n",
        "                 'part_restrict': 'PART', 'part_verb': 'PART', 'part_voc': 'PART',\n",
        "                 'prep': 'ADP', 'abbrev': 'N', 'punc': 'PUNCT', 'conj': 'CONJ',\n",
        "                 'conj_sub': 'CONJ', 'interj': 'INTJ', 'digit': 'NUM',\n",
        "                 'latin': 0}\n",
        "\n",
        "cas = {'n': 'NOM', 'a': 'ACC', 'g': 'GEN', 'na': 0, 'u': 0}\n",
        "\n",
        "# from_gen = {'f': 'FEM', 'm': 'MASC', 'na': 0}\n",
        "\n",
        "gen = {'f': 'FEM', 'm': 'MASC', 'na': 0, 'u': 0, '-': 0}\n",
        "\n",
        "num = {'s': 'SG', 'd': 'DU', 'p': 'PL', 'na': 0, 'u': 0, '-': 0}\n",
        "\n",
        "per = {'1': '1', '2': '2', '3': '3', 'na': 0}\n",
        "\n",
        "vox = {'a': 'ACT', 'p': 'PASS', 'na': 0, 'u': 0}\n",
        "\n",
        "aspect = {'c': 'IMP', 'i': 'IPFV', 'p': 'PFV', 'na': 0, '*': 0}\n",
        "\n",
        "mod = {'i': 'IND', 'j': 'IMP', 's': 'SBJV', 'na': 0, 'u': 0}\n",
        "\n",
        "stt = {'c': 'PSSD', 'd': 'DEF', 'i': 'INDF', 'na': 0, 'u': 0}"
      ],
      "metadata": {
        "id": "eEPUoKwWTC7_"
      },
      "execution_count": null,
      "outputs": []
    },
    {
      "cell_type": "code",
      "source": [
        "d = ['a']\n",
        "';'.join(d)"
      ],
      "metadata": {
        "colab": {
          "base_uri": "https://localhost:8080/",
          "height": 37
        },
        "id": "L41VgVTMhQ11",
        "outputId": "8f8db20e-4595-4427-8fa5-bbace05e2515"
      },
      "execution_count": null,
      "outputs": [
        {
          "output_type": "execute_result",
          "data": {
            "application/vnd.google.colaboratory.intrinsic+json": {
              "type": "string"
            },
            "text/plain": [
              "'a'"
            ]
          },
          "metadata": {},
          "execution_count": 43
        }
      ]
    },
    {
      "cell_type": "code",
      "source": [
        "uniq_tokens = []\n",
        "poses= []\n",
        "lemmas = []\n",
        "tokens = []\n",
        "with open('/content/drive/MyDrive/arabic_poetry_UM_without_duplicates.txt') as f:\n",
        "    for line in f:\n",
        "        if ('____' not in line):\n",
        "            poses.append(line.split('\\t')[0])\n",
        "            lemmas.append(line.split('\\t')[1])\n",
        "            tokens.append(line.split('\\t')[2].replace('\\n', ''))\n",
        "\n",
        "\n",
        "with open('/content/drive/MyDrive/camel2um.txt', 'w') as f:\n",
        "    for word in tokens:\n",
        "        analyses = analyzer.analyze(word)\n",
        "        if analyses:\n",
        "            lemma = ''\n",
        "            for analysis in analyses:\n",
        "                if analysis['diac'][:-1] == word:\n",
        "                    list_of_morph = []\n",
        "                    lemma = analysis['lex']\n",
        "                    if analysis['pos'] != 0:\n",
        "                        pos_um = pos[analysis['pos']]\n",
        "                        list_of_morph.append(pos_um)\n",
        "                    if analysis['cas'] != 0:\n",
        "                        cas_um = cas[analysis['cas']]\n",
        "                        list_of_morph.append(cas_um)\n",
        "                    if analysis['gen'] != 0:\n",
        "                        gen_um = gen[analysis['gen']]\n",
        "                        list_of_morph.append(gen_um)\n",
        "                    if analysis['num'] != 0:\n",
        "                        num_um = num[analysis['num']]\n",
        "                        list_of_morph.append(num_um)\n",
        "                    if analysis['per'] != 0:\n",
        "                        per_um = per[analysis['per']]\n",
        "                        list_of_morph.append(per_um)\n",
        "                    if analysis['vox'] != 0:\n",
        "                        vox_um = vox[analysis['vox']]\n",
        "                        list_of_morph.append(vox_um)\n",
        "                    if analysis['asp'] != 0:\n",
        "                        aspect_um = aspect[analysis['asp']]\n",
        "                        list_of_morph.append(aspect_um)\n",
        "                    if analysis['mod'] != 0:\n",
        "                        mod_um = mod[analysis['mod']]\n",
        "                        list_of_morph.append(mod_um)\n",
        "                    if analysis['stt'] != 0:\n",
        "                        stt_um = stt[analysis['stt']]  \n",
        "                        list_of_morph.append(stt_um) \n",
        "\n",
        "                    list_of_morph_new = []\n",
        "                    for i in range(len(list_of_morph)):\n",
        "                        if list_of_morph[i] != 0:\n",
        "                            list_of_morph_new.append(list_of_morph[i])\n",
        "                    morph = ';'.join(list_of_morph_new)\n",
        "                    break\n",
        "                \n",
        "            if lemma == '':\n",
        "                list_of_morph = []\n",
        "                lemma = analyses[0]['lex']\n",
        "                # print(analyses[0])\n",
        "                if analyses[0]['pos'] != 0:\n",
        "                    # print(analyses[0])\n",
        "                    pos_um = pos[analyses[0]['pos']]\n",
        "                    list_of_morph.append(pos_um)\n",
        "                if analyses[0]['cas'] != 0:\n",
        "                    cas_um = cas[analyses[0]['cas']]\n",
        "                    list_of_morph.append(cas_um)\n",
        "                if analyses[0]['gen'] != 0:\n",
        "                    gen_um = gen[analyses[0]['gen']]\n",
        "                    list_of_morph.append(gen_um)\n",
        "                if analyses[0]['num'] != 0:\n",
        "                    num_um = num[analyses[0]['num']]\n",
        "                    list_of_morph.append(num_um)\n",
        "                if analyses[0]['per'] != 0:\n",
        "                    # print(analyses[0])\n",
        "                    per_um = per[analyses[0]['per']]\n",
        "                    list_of_morph.append(per_um)\n",
        "                if analyses[0]['vox'] != 0:\n",
        "                    vox_um = vox[analyses[0]['vox']]\n",
        "                    list_of_morph.append(vox_um)\n",
        "                if analyses[0]['asp'] != 0:\n",
        "                    aspect_um = aspect[analyses[0]['asp']]\n",
        "                    list_of_morph.append(aspect_um)\n",
        "                if analyses[0]['mod'] != 0:\n",
        "                    mod_um = mod[analyses[0]['mod']]\n",
        "                    list_of_morph.append(mod_um)\n",
        "                if analyses[0]['stt'] != 0:\n",
        "                    stt_um = stt[analyses[0]['stt']]  \n",
        "                    list_of_morph.append(stt_um)\n",
        "                \n",
        "                list_of_morph_new = []\n",
        "                for i in range(len(list_of_morph)):\n",
        "                    if list_of_morph[i] != 0:\n",
        "                        list_of_morph_new.append(list_of_morph[i])\n",
        "                morph = ';'.join(list_of_morph_new)\n",
        "\n",
        "            if word not in uniq_tokens:    \n",
        "                uniq_tokens.append(word)\n",
        "                if morph != 'PUNCT':\n",
        "                    print(morph, word, lemma, sep='\\t', file=f)\n",
        "                \n",
        "\n",
        "        else:\n",
        "            if word not in uniq_tokens:\n",
        "                uniq_tokens.append(word)\n",
        "                print('_', word, word, sep='\\t', file=f)"
      ],
      "metadata": {
        "id": "nWuT4Z4PMfaK"
      },
      "execution_count": null,
      "outputs": []
    },
    {
      "cell_type": "code",
      "source": [
        ""
      ],
      "metadata": {
        "id": "G66nz8qjkZJH"
      },
      "execution_count": null,
      "outputs": []
    }
  ]
}